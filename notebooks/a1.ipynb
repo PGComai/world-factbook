{
 "cells": [
  {
   "cell_type": "code",
   "execution_count": 1,
   "metadata": {},
   "outputs": [],
   "source": [
    "import pandas as pd"
   ]
  },
  {
   "cell_type": "code",
   "execution_count": 2,
   "metadata": {},
   "outputs": [
    {
     "data": {
      "text/html": [
       "<div>\n",
       "<style scoped>\n",
       "    .dataframe tbody tr th:only-of-type {\n",
       "        vertical-align: middle;\n",
       "    }\n",
       "\n",
       "    .dataframe tbody tr th {\n",
       "        vertical-align: top;\n",
       "    }\n",
       "\n",
       "    .dataframe thead th {\n",
       "        text-align: right;\n",
       "    }\n",
       "</style>\n",
       "<table border=\"1\" class=\"dataframe\">\n",
       "  <thead>\n",
       "    <tr style=\"text-align: right;\">\n",
       "      <th></th>\n",
       "      <th>name</th>\n",
       "      <th>slug</th>\n",
       "      <th>value</th>\n",
       "      <th>date_of_information</th>\n",
       "      <th>ranking</th>\n",
       "      <th>region</th>\n",
       "    </tr>\n",
       "  </thead>\n",
       "  <tbody>\n",
       "    <tr>\n",
       "      <th>0</th>\n",
       "      <td>China</td>\n",
       "      <td>china</td>\n",
       "      <td>$3,554,000,000,000</td>\n",
       "      <td>2021 est.</td>\n",
       "      <td>1</td>\n",
       "      <td>East and Southeast Asia</td>\n",
       "    </tr>\n",
       "    <tr>\n",
       "      <th>1</th>\n",
       "      <td>United States</td>\n",
       "      <td>united-states</td>\n",
       "      <td>$2,557,000,000,000</td>\n",
       "      <td>2021 est.</td>\n",
       "      <td>2</td>\n",
       "      <td>North America</td>\n",
       "    </tr>\n",
       "    <tr>\n",
       "      <th>2</th>\n",
       "      <td>Germany</td>\n",
       "      <td>germany</td>\n",
       "      <td>$2,004,000,000,000</td>\n",
       "      <td>2021 est.</td>\n",
       "      <td>3</td>\n",
       "      <td>Europe</td>\n",
       "    </tr>\n",
       "    <tr>\n",
       "      <th>3</th>\n",
       "      <td>France</td>\n",
       "      <td>france</td>\n",
       "      <td>$920,864,000,000</td>\n",
       "      <td>2021 est.</td>\n",
       "      <td>4</td>\n",
       "      <td>Europe</td>\n",
       "    </tr>\n",
       "    <tr>\n",
       "      <th>4</th>\n",
       "      <td>Japan</td>\n",
       "      <td>japan</td>\n",
       "      <td>$919,158,000,000</td>\n",
       "      <td>2021 est.</td>\n",
       "      <td>5</td>\n",
       "      <td>East and Southeast Asia</td>\n",
       "    </tr>\n",
       "  </tbody>\n",
       "</table>\n",
       "</div>"
      ],
      "text/plain": [
       "            name           slug               value date_of_information  \\\n",
       "0          China          china  $3,554,000,000,000           2021 est.   \n",
       "1  United States  united-states  $2,557,000,000,000           2021 est.   \n",
       "2        Germany        germany  $2,004,000,000,000           2021 est.   \n",
       "3         France         france    $920,864,000,000           2021 est.   \n",
       "4          Japan          japan    $919,158,000,000           2021 est.   \n",
       "\n",
       "   ranking                   region  \n",
       "0        1  East and Southeast Asia  \n",
       "1        2            North America  \n",
       "2        3                   Europe  \n",
       "3        4                   Europe  \n",
       "4        5  East and Southeast Asia  "
      ]
     },
     "execution_count": 2,
     "metadata": {},
     "output_type": "execute_result"
    }
   ],
   "source": [
    "ex = pd.read_csv('../resources/econ/exports.csv')\n",
    "ex.head()"
   ]
  },
  {
   "cell_type": "code",
   "execution_count": 3,
   "metadata": {},
   "outputs": [
    {
     "data": {
      "text/html": [
       "<div>\n",
       "<style scoped>\n",
       "    .dataframe tbody tr th:only-of-type {\n",
       "        vertical-align: middle;\n",
       "    }\n",
       "\n",
       "    .dataframe tbody tr th {\n",
       "        vertical-align: top;\n",
       "    }\n",
       "\n",
       "    .dataframe thead th {\n",
       "        text-align: right;\n",
       "    }\n",
       "</style>\n",
       "<table border=\"1\" class=\"dataframe\">\n",
       "  <thead>\n",
       "    <tr style=\"text-align: right;\">\n",
       "      <th></th>\n",
       "      <th>name</th>\n",
       "      <th>slug</th>\n",
       "      <th>value</th>\n",
       "      <th>date_of_information</th>\n",
       "      <th>ranking</th>\n",
       "      <th>region</th>\n",
       "    </tr>\n",
       "  </thead>\n",
       "  <tbody>\n",
       "    <tr>\n",
       "      <th>0</th>\n",
       "      <td>United States</td>\n",
       "      <td>united-states</td>\n",
       "      <td>$3,402,000,000,000</td>\n",
       "      <td>2021 est.</td>\n",
       "      <td>1</td>\n",
       "      <td>North America</td>\n",
       "    </tr>\n",
       "    <tr>\n",
       "      <th>1</th>\n",
       "      <td>China</td>\n",
       "      <td>china</td>\n",
       "      <td>$3,091,000,000,000</td>\n",
       "      <td>2021 est.</td>\n",
       "      <td>2</td>\n",
       "      <td>East and Southeast Asia</td>\n",
       "    </tr>\n",
       "    <tr>\n",
       "      <th>2</th>\n",
       "      <td>Germany</td>\n",
       "      <td>germany</td>\n",
       "      <td>$1,775,000,000,000</td>\n",
       "      <td>2021 est.</td>\n",
       "      <td>3</td>\n",
       "      <td>Europe</td>\n",
       "    </tr>\n",
       "    <tr>\n",
       "      <th>3</th>\n",
       "      <td>France</td>\n",
       "      <td>france</td>\n",
       "      <td>$957,717,000,000</td>\n",
       "      <td>2021 est.</td>\n",
       "      <td>4</td>\n",
       "      <td>Europe</td>\n",
       "    </tr>\n",
       "    <tr>\n",
       "      <th>4</th>\n",
       "      <td>Japan</td>\n",
       "      <td>japan</td>\n",
       "      <td>$941,671,000,000</td>\n",
       "      <td>2021 est.</td>\n",
       "      <td>5</td>\n",
       "      <td>East and Southeast Asia</td>\n",
       "    </tr>\n",
       "  </tbody>\n",
       "</table>\n",
       "</div>"
      ],
      "text/plain": [
       "            name           slug               value date_of_information  \\\n",
       "0  United States  united-states  $3,402,000,000,000           2021 est.   \n",
       "1          China          china  $3,091,000,000,000           2021 est.   \n",
       "2        Germany        germany  $1,775,000,000,000           2021 est.   \n",
       "3         France         france    $957,717,000,000           2021 est.   \n",
       "4          Japan          japan    $941,671,000,000           2021 est.   \n",
       "\n",
       "   ranking                   region  \n",
       "0        1            North America  \n",
       "1        2  East and Southeast Asia  \n",
       "2        3                   Europe  \n",
       "3        4                   Europe  \n",
       "4        5  East and Southeast Asia  "
      ]
     },
     "execution_count": 3,
     "metadata": {},
     "output_type": "execute_result"
    }
   ],
   "source": [
    "im = pd.read_csv('../resources/econ/imports.csv')\n",
    "im.head()"
   ]
  },
  {
   "cell_type": "code",
   "execution_count": 4,
   "metadata": {},
   "outputs": [
    {
     "data": {
      "text/plain": [
       "2021 est.    160\n",
       "2020 est.     17\n",
       "2017 est.     15\n",
       "2018 est.      9\n",
       "2019 est.      5\n",
       "2016 est.      5\n",
       "2004 est.      4\n",
       "2015 est.      4\n",
       "2011 est.      2\n",
       "2014 est.      2\n",
       "2010 est.      2\n",
       "Name: date_of_information, dtype: int64"
      ]
     },
     "execution_count": 4,
     "metadata": {},
     "output_type": "execute_result"
    }
   ],
   "source": [
    "im.date_of_information.value_counts()"
   ]
  },
  {
   "cell_type": "code",
   "execution_count": 5,
   "metadata": {},
   "outputs": [
    {
     "data": {
      "text/plain": [
       "2021 est.    160\n",
       "2020 est.     17\n",
       "2017 est.     15\n",
       "2018 est.      7\n",
       "2019 est.      5\n",
       "2016 est.      5\n",
       "2015 est.      4\n",
       "2014 est.      4\n",
       "2004 est.      3\n",
       "2011 est.      2\n",
       "2018           1\n",
       "2013 est.      1\n",
       "2010 est.      1\n",
       "Name: date_of_information, dtype: int64"
      ]
     },
     "execution_count": 5,
     "metadata": {},
     "output_type": "execute_result"
    }
   ],
   "source": [
    "ex.date_of_information.value_counts()"
   ]
  },
  {
   "cell_type": "code",
   "execution_count": null,
   "metadata": {},
   "outputs": [],
   "source": []
  }
 ],
 "metadata": {
  "kernelspec": {
   "display_name": "PythonData",
   "language": "python",
   "name": "python3"
  },
  "language_info": {
   "codemirror_mode": {
    "name": "ipython",
    "version": 3
   },
   "file_extension": ".py",
   "mimetype": "text/x-python",
   "name": "python",
   "nbconvert_exporter": "python",
   "pygments_lexer": "ipython3",
   "version": "3.7.13"
  },
  "orig_nbformat": 4,
  "vscode": {
   "interpreter": {
    "hash": "276c12ed121e8cfecfbc97212c00360cc9b29a39beb822e1b78b99c0ab83c4f2"
   }
  }
 },
 "nbformat": 4,
 "nbformat_minor": 2
}
